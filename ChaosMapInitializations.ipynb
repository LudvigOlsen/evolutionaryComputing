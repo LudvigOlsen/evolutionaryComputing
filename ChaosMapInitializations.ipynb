{
 "cells": [
  {
   "cell_type": "markdown",
   "metadata": {},
   "source": [
    "Testing chaos functions"
   ]
  },
  {
   "cell_type": "code",
   "execution_count": 2,
   "metadata": {},
   "outputs": [],
   "source": [
    "import numpy as np"
   ]
  },
  {
   "cell_type": "code",
   "execution_count": 26,
   "metadata": {},
   "outputs": [],
   "source": [
    "def describe(arr):\n",
    "    min_ = min(arr)\n",
    "    max_ = max(arr)\n",
    "    mean_ = np.mean(arr)\n",
    "    median_ = np.median(arr)\n",
    "    sd_ = np.std(arr)\n",
    "    return {\"Min\":min_,\"Max\": max_,\"Mean\": mean_, \"Median\": median_, \"SD\": sd_}"
   ]
  },
  {
   "cell_type": "code",
   "execution_count": 8,
   "metadata": {},
   "outputs": [],
   "source": [
    "def logistic_map_chaos_fn(random_number, rounds=550):\n",
    "    chaos = random_number\n",
    "    my = 4.0\n",
    "    for i in range(rounds):\n",
    "        chaos = my*chaos*(1-chaos)\n",
    "        \n",
    "    return chaos"
   ]
  },
  {
   "cell_type": "code",
   "execution_count": 9,
   "metadata": {},
   "outputs": [],
   "source": [
    "def sine_map_chaos_fn(random_number, rounds=550):\n",
    "    chaos = random_number\n",
    "    my = 0.99\n",
    "    for i in range(rounds):\n",
    "        chaos = my*np.sin(np.pi*chaos)\n",
    "        \n",
    "    return chaos"
   ]
  },
  {
   "cell_type": "code",
   "execution_count": 10,
   "metadata": {},
   "outputs": [],
   "source": [
    "def cosine_map_chaos_fn(random_number, rounds=550):\n",
    "    chaos = random_number\n",
    "    my = 0.99\n",
    "    for i in range(rounds):\n",
    "        chaos = my*np.cos(np.pi*np.abs(chaos-0.5))\n",
    "        \n",
    "    return chaos"
   ]
  },
  {
   "cell_type": "code",
   "execution_count": 11,
   "metadata": {},
   "outputs": [],
   "source": [
    "def cubic_map_chaos_fn(random_number, rounds=550):\n",
    "    chaos = random_number\n",
    "    my = 2.59\n",
    "    for i in range(rounds):\n",
    "        chaos = my*chaos*(1-chaos**2)\n",
    "        \n",
    "    return chaos"
   ]
  },
  {
   "cell_type": "code",
   "execution_count": 12,
   "metadata": {},
   "outputs": [],
   "source": [
    "random_numbers = [0.1,0.2,0.3,0.4,0.5,0.6,0.7,0.8,0.9]"
   ]
  },
  {
   "cell_type": "code",
   "execution_count": 32,
   "metadata": {},
   "outputs": [
    {
     "data": {
      "text/plain": [
       "({'Min': 0.0,\n",
       "  'Max': 0.9935845917730772,\n",
       "  'Mean': 0.29350677618718923,\n",
       "  'Median': 0.0757268925224831,\n",
       "  'SD': 0.381850630233398},\n",
       " {'Min': 0.0,\n",
       "  'Max': 0.9931261613277241,\n",
       "  'Mean': 0.5482344485171036,\n",
       "  'Median': 0.459951878237167,\n",
       "  'SD': 0.4174886153291531},\n",
       " [0.0757268925224831,\n",
       "  0.06813407390892287,\n",
       "  0.42310562820307723,\n",
       "  0.027306356056733566,\n",
       "  0.0,\n",
       "  0.027306356056733566,\n",
       "  0.9935845917730772,\n",
       "  0.9506701946411926,\n",
       "  0.0757268925224831])"
      ]
     },
     "execution_count": 32,
     "metadata": {},
     "output_type": "execute_result"
    }
   ],
   "source": [
    "logistics550 = [logistic_map_chaos_fn(r, 550) for r in random_numbers]\n",
    "logistics549 = [logistic_map_chaos_fn(r, 549) for r in random_numbers]\n",
    "describe(logistics550), describe(logistics549), logistics550"
   ]
  },
  {
   "cell_type": "code",
   "execution_count": 33,
   "metadata": {},
   "outputs": [
    {
     "data": {
      "text/plain": [
       "({'Min': 0.03737814453004765,\n",
       "  'Max': 0.9824670523224968,\n",
       "  'Mean': 0.5909295032118983,\n",
       "  'Median': 0.46879850483140817,\n",
       "  'SD': 0.3561924326872828},\n",
       " {'Min': 0.06757574411420685,\n",
       "  'Max': 0.9879791298395532,\n",
       "  'Mean': 0.5558035069278258,\n",
       "  'Median': 0.5833325598095715,\n",
       "  'SD': 0.3020544480357789},\n",
       " [0.40434756187494336,\n",
       "  0.9562671906890744,\n",
       "  0.46879850483140817,\n",
       "  0.03737814453004765,\n",
       "  0.20859733695040947,\n",
       "  0.9824670523224968,\n",
       "  0.32670010131315946,\n",
       "  0.9562671906890744,\n",
       "  0.9775424457064708])"
      ]
     },
     "execution_count": 33,
     "metadata": {},
     "output_type": "execute_result"
    }
   ],
   "source": [
    "sine550 = [sine_map_chaos_fn(r, 550) for r in random_numbers]\n",
    "sine549 = [sine_map_chaos_fn(r, 549) for r in random_numbers]\n",
    "describe(sine550), describe(sine549), sine550"
   ]
  },
  {
   "cell_type": "code",
   "execution_count": 34,
   "metadata": {},
   "outputs": [
    {
     "data": {
      "text/plain": [
       "({'Min': 0.12915417453081784,\n",
       "  'Max': 0.9895739343154354,\n",
       "  'Mean': 0.4849792980304528,\n",
       "  'Median': 0.29579719668619664,\n",
       "  'SD': 0.35300657194934953},\n",
       " {'Min': 0.04164501789734047,\n",
       "  'Max': 0.8289059655928488,\n",
       "  'Mean': 0.3152854382311943,\n",
       "  'Median': 0.09658136029954527,\n",
       "  'SD': 0.2934931955348236},\n",
       " [0.9423172122273691,\n",
       "  0.13382576628378942,\n",
       "  0.29579719668619664,\n",
       "  0.12915417453081784,\n",
       "  0.9895739343154354,\n",
       "  0.12915417453081784,\n",
       "  0.29579719668619664,\n",
       "  0.5068768147860834,\n",
       "  0.9423172122273691])"
      ]
     },
     "execution_count": 34,
     "metadata": {},
     "output_type": "execute_result"
    }
   ],
   "source": [
    "cosine550 = [cosine_map_chaos_fn(r, 550) for r in random_numbers]\n",
    "cosine549 = [cosine_map_chaos_fn(r, 549) for r in random_numbers]\n",
    "describe(cosine550), describe(cosine549), cosine550"
   ]
  },
  {
   "cell_type": "code",
   "execution_count": 35,
   "metadata": {},
   "outputs": [
    {
     "data": {
      "text/plain": [
       "({'Min': 0.23460821491368888,\n",
       "  'Max': 0.9887671026669067,\n",
       "  'Mean': 0.5535507715160818,\n",
       "  'Median': 0.5060936489310364,\n",
       "  'SD': 0.266555829713788},\n",
       " {'Min': 0.09134448380931494,\n",
       "  'Max': 0.9468506976192469,\n",
       "  'Mean': 0.587917255298352,\n",
       "  'Median': 0.5342543920616901,\n",
       "  'SD': 0.31601901144193306},\n",
       " [0.25375317398450453,\n",
       "  0.23460821491368888,\n",
       "  0.5060936489310364,\n",
       "  0.9887671026669067,\n",
       "  0.8687224377627095,\n",
       "  0.35638697835137373,\n",
       "  0.8556525848330819,\n",
       "  0.39249347119782785,\n",
       "  0.5254793310036059])"
      ]
     },
     "execution_count": 35,
     "metadata": {},
     "output_type": "execute_result"
    }
   ],
   "source": [
    "cubic550 = [cubic_map_chaos_fn(r, 550) for r in random_numbers]\n",
    "cubic549 = [cubic_map_chaos_fn(r, 549) for r in random_numbers]\n",
    "describe(cubic550), describe(cubic549), cubic550"
   ]
  },
  {
   "cell_type": "code",
   "execution_count": null,
   "metadata": {},
   "outputs": [],
   "source": []
  }
 ],
 "metadata": {
  "kernelspec": {
   "display_name": "Python 3",
   "language": "python",
   "name": "python3"
  },
  "language_info": {
   "codemirror_mode": {
    "name": "ipython",
    "version": 3
   },
   "file_extension": ".py",
   "mimetype": "text/x-python",
   "name": "python",
   "nbconvert_exporter": "python",
   "pygments_lexer": "ipython3",
   "version": "3.6.5"
  }
 },
 "nbformat": 4,
 "nbformat_minor": 2
}
