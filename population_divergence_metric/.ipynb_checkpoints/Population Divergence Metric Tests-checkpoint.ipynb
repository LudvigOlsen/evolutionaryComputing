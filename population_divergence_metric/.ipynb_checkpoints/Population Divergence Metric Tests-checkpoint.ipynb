{
 "cells": [
  {
   "cell_type": "markdown",
   "metadata": {},
   "source": [
    "## Population divergence"
   ]
  },
  {
   "cell_type": "code",
   "execution_count": 1,
   "metadata": {},
   "outputs": [],
   "source": [
    "import numpy as np\n",
    "import random\n",
    "import pandas as pd"
   ]
  },
  {
   "cell_type": "code",
   "execution_count": 2,
   "metadata": {},
   "outputs": [],
   "source": [
    "def limitToRange(val, min_limit, max_limit):\n",
    "    if val < min_limit: return min_limit\n",
    "    if val > max_limit: return max_limit\n",
    "    return val\n",
    "\n",
    "def limitArrayValsToRange(vals, min_limit, max_limit):\n",
    "    return [limitToRange(val, min_limit, max_limit) for val in vals]"
   ]
  },
  {
   "cell_type": "code",
   "execution_count": 3,
   "metadata": {},
   "outputs": [],
   "source": [
    "def normalize_probability(arr):\n",
    "    sum_ = sum(arr)\n",
    "    return [a/sum_ for a in arr]"
   ]
  },
  {
   "cell_type": "code",
   "execution_count": 4,
   "metadata": {},
   "outputs": [],
   "source": [
    "def populationDivergence(population_one, population_two):\n",
    "\n",
    "    pop1_col_product = normalize_probability(np.prod(np.asarray(population_one), axis=0))\n",
    "    pop2_col_product = normalize_probability(np.prod(np.asarray(population_two), axis=0))\n",
    "    # print(population_one_colwise_product, population_two_colwise_product)\n",
    "    \n",
    "    # Kuhlback leibler divergence\n",
    "    return np.mean([np.abs(np.log(pop1_col_product[i]/(pop2_col_product[i]+1e-64))) for i in range(len(pop1_col_product))])"
   ]
  },
  {
   "cell_type": "markdown",
   "metadata": {},
   "source": [
    "### Experiment 1\n",
    "All genes are biased in one direction."
   ]
  },
  {
   "cell_type": "code",
   "execution_count": 5,
   "metadata": {},
   "outputs": [],
   "source": [
    "def createIndividualExp1(size=10, bias=0.0, min_limit=1e-4, max_limit=1.0):\n",
    "    return [limitToRange((random.randint(0,100) / 100) + bias, min_limit, max_limit) for i in range(size)]"
   ]
  },
  {
   "cell_type": "code",
   "execution_count": 6,
   "metadata": {},
   "outputs": [],
   "source": [
    "def createPopulationExp1(size=10, bias=0.0):\n",
    "    return [createIndividualExp1(10, bias=bias, min_limit=1e-4, max_limit=1.0) for i in range(size)]"
   ]
  },
  {
   "cell_type": "code",
   "execution_count": 7,
   "metadata": {},
   "outputs": [],
   "source": [
    "def createPopulationsExp1(n_pops, n_individuals, bias_range=[-0.4,0.4]):\n",
    "    pops = []\n",
    "    biases = []\n",
    "    for i in range(n_pops):\n",
    "        bias = random.uniform(bias_range[0], bias_range[1])\n",
    "        biases.append(bias)\n",
    "        pops.append(createPopulationExp1(n_individuals, bias=bias))\n",
    "    return pops, biases"
   ]
  },
  {
   "cell_type": "code",
   "execution_count": 8,
   "metadata": {},
   "outputs": [],
   "source": [
    "# createPopulations(2, 2)"
   ]
  },
  {
   "cell_type": "code",
   "execution_count": 9,
   "metadata": {},
   "outputs": [],
   "source": [
    "def testDivergenceMeasureExp1(n_pops, n_individuals, bias_range=[-0.4,0.4]):\n",
    "    populations, biases = createPopulationsExp1(n_pops, n_individuals, bias_range)\n",
    "    \n",
    "    results = pd.DataFrame(columns=[\"population_1\", \"population_2\",\"bias_1\", \"bias_2\", \"divergence\"])\n",
    "    \n",
    "    #count = 0\n",
    "    for i in range(n_pops):\n",
    "        for j in range(n_pops):\n",
    "            if j<i: \n",
    "                continue\n",
    "                \n",
    "            divergence = populationDivergence(populations[i], populations[j])\n",
    "\n",
    "            results = results.append({\"population_1\":i, \"population_2\":j, \n",
    "                                      \"bias_1\": biases[i], \"bias_2\": biases[j], \n",
    "                                      \"divergence\":divergence}, ignore_index=True)\n",
    "    \n",
    "    return results"
   ]
  },
  {
   "cell_type": "code",
   "execution_count": 23,
   "metadata": {},
   "outputs": [],
   "source": [
    "divergence_dataframe_exp1 = testDivergenceMeasureExp1(1000, 100)"
   ]
  },
  {
   "cell_type": "code",
   "execution_count": 24,
   "metadata": {},
   "outputs": [],
   "source": [
    "divergence_dataframe_exp1.to_csv(\"population_divergence_sample_experiment_1.csv\",sep=\",\")"
   ]
  },
  {
   "cell_type": "code",
   "execution_count": 25,
   "metadata": {
    "scrolled": true
   },
   "outputs": [
    {
     "data": {
      "text/html": [
       "<div>\n",
       "<style scoped>\n",
       "    .dataframe tbody tr th:only-of-type {\n",
       "        vertical-align: middle;\n",
       "    }\n",
       "\n",
       "    .dataframe tbody tr th {\n",
       "        vertical-align: top;\n",
       "    }\n",
       "\n",
       "    .dataframe thead th {\n",
       "        text-align: right;\n",
       "    }\n",
       "</style>\n",
       "<table border=\"1\" class=\"dataframe\">\n",
       "  <thead>\n",
       "    <tr style=\"text-align: right;\">\n",
       "      <th></th>\n",
       "      <th>population_1</th>\n",
       "      <th>population_2</th>\n",
       "      <th>bias_1</th>\n",
       "      <th>bias_2</th>\n",
       "      <th>divergence</th>\n",
       "    </tr>\n",
       "  </thead>\n",
       "  <tbody>\n",
       "    <tr>\n",
       "      <th>0</th>\n",
       "      <td>0.0</td>\n",
       "      <td>0.0</td>\n",
       "      <td>-0.149219</td>\n",
       "      <td>-0.149219</td>\n",
       "      <td>0.000000</td>\n",
       "    </tr>\n",
       "    <tr>\n",
       "      <th>1</th>\n",
       "      <td>0.0</td>\n",
       "      <td>1.0</td>\n",
       "      <td>-0.149219</td>\n",
       "      <td>-0.140639</td>\n",
       "      <td>33.074348</td>\n",
       "    </tr>\n",
       "    <tr>\n",
       "      <th>2</th>\n",
       "      <td>0.0</td>\n",
       "      <td>2.0</td>\n",
       "      <td>-0.149219</td>\n",
       "      <td>0.208330</td>\n",
       "      <td>38.237520</td>\n",
       "    </tr>\n",
       "    <tr>\n",
       "      <th>3</th>\n",
       "      <td>0.0</td>\n",
       "      <td>3.0</td>\n",
       "      <td>-0.149219</td>\n",
       "      <td>0.029362</td>\n",
       "      <td>36.150928</td>\n",
       "    </tr>\n",
       "    <tr>\n",
       "      <th>4</th>\n",
       "      <td>0.0</td>\n",
       "      <td>4.0</td>\n",
       "      <td>-0.149219</td>\n",
       "      <td>0.029232</td>\n",
       "      <td>36.925622</td>\n",
       "    </tr>\n",
       "    <tr>\n",
       "      <th>5</th>\n",
       "      <td>0.0</td>\n",
       "      <td>5.0</td>\n",
       "      <td>-0.149219</td>\n",
       "      <td>0.116329</td>\n",
       "      <td>39.741507</td>\n",
       "    </tr>\n",
       "    <tr>\n",
       "      <th>6</th>\n",
       "      <td>0.0</td>\n",
       "      <td>6.0</td>\n",
       "      <td>-0.149219</td>\n",
       "      <td>-0.267961</td>\n",
       "      <td>59.930844</td>\n",
       "    </tr>\n",
       "    <tr>\n",
       "      <th>7</th>\n",
       "      <td>0.0</td>\n",
       "      <td>7.0</td>\n",
       "      <td>-0.149219</td>\n",
       "      <td>-0.018698</td>\n",
       "      <td>37.331780</td>\n",
       "    </tr>\n",
       "    <tr>\n",
       "      <th>8</th>\n",
       "      <td>0.0</td>\n",
       "      <td>8.0</td>\n",
       "      <td>-0.149219</td>\n",
       "      <td>0.045254</td>\n",
       "      <td>37.594041</td>\n",
       "    </tr>\n",
       "    <tr>\n",
       "      <th>9</th>\n",
       "      <td>0.0</td>\n",
       "      <td>9.0</td>\n",
       "      <td>-0.149219</td>\n",
       "      <td>0.073597</td>\n",
       "      <td>36.962070</td>\n",
       "    </tr>\n",
       "  </tbody>\n",
       "</table>\n",
       "</div>"
      ],
      "text/plain": [
       "   population_1  population_2    bias_1    bias_2  divergence\n",
       "0           0.0           0.0 -0.149219 -0.149219    0.000000\n",
       "1           0.0           1.0 -0.149219 -0.140639   33.074348\n",
       "2           0.0           2.0 -0.149219  0.208330   38.237520\n",
       "3           0.0           3.0 -0.149219  0.029362   36.150928\n",
       "4           0.0           4.0 -0.149219  0.029232   36.925622\n",
       "5           0.0           5.0 -0.149219  0.116329   39.741507\n",
       "6           0.0           6.0 -0.149219 -0.267961   59.930844\n",
       "7           0.0           7.0 -0.149219 -0.018698   37.331780\n",
       "8           0.0           8.0 -0.149219  0.045254   37.594041\n",
       "9           0.0           9.0 -0.149219  0.073597   36.962070"
      ]
     },
     "execution_count": 25,
     "metadata": {},
     "output_type": "execute_result"
    }
   ],
   "source": [
    "divergence_dataframe_exp1.head(10)"
   ]
  },
  {
   "cell_type": "code",
   "execution_count": 26,
   "metadata": {},
   "outputs": [],
   "source": [
    "def createOneGenomeProduct():\n",
    "    populations, biases = createPopulationsExp1(1, 100, bias_range=[-0.4,0.4])\n",
    "    return np.prod(np.asarray(populations[0]), axis=0)\n",
    "    "
   ]
  },
  {
   "cell_type": "code",
   "execution_count": 27,
   "metadata": {},
   "outputs": [
    {
     "data": {
      "text/plain": [
       "array([1.20691532e-190, 2.42579274e-189, 5.75341962e-189, 4.72568240e-170,\n",
       "       1.51377434e-177, 6.17398185e-170, 2.20074347e-186, 2.21470178e-199,\n",
       "       4.28885168e-157, 8.88003815e-150])"
      ]
     },
     "execution_count": 27,
     "metadata": {},
     "output_type": "execute_result"
    }
   ],
   "source": [
    "prod = createOneGenomeProduct()\n",
    "prod"
   ]
  },
  {
   "cell_type": "code",
   "execution_count": 28,
   "metadata": {},
   "outputs": [
    {
     "data": {
      "text/plain": [
       "[1.3591329727494196e-41,\n",
       " 2.7317367146118915e-40,\n",
       " 6.479048000004541e-40,\n",
       " 5.321691298767205e-21,\n",
       " 1.704693421591281e-28,\n",
       " 6.952652059695123e-21,\n",
       " 2.478303956226087e-37,\n",
       " 2.494022704159955e-50,\n",
       " 4.829766942663812e-08,\n",
       " 0.9999999517023306]"
      ]
     },
     "execution_count": 28,
     "metadata": {},
     "output_type": "execute_result"
    }
   ],
   "source": [
    "normalize_probability(prod)"
   ]
  },
  {
   "cell_type": "markdown",
   "metadata": {},
   "source": [
    "### Experiment 2\n",
    "Half of the genes in one direction, half in the other.  \n",
    "Compare pairs where the directions are inverted,   \n",
    "\n",
    "e.g.   \n",
    "bias for pop 1 = [-0.3, -0,3, 0.3, 0.3]   \n",
    "bias for pop 2 = [0.3, 0.3, -0.3, -0.3]"
   ]
  },
  {
   "cell_type": "code",
   "execution_count": 16,
   "metadata": {},
   "outputs": [],
   "source": [
    "def createIndividualExp2(size=10, biases=[0.0,0.0], min_limit=1e-4, max_limit=1.0):\n",
    "    return [limitToRange((random.randint(0,100) / 100) + (biases[0] if i < size//2 else biases[1]), min_limit, max_limit) for i in range(size)]"
   ]
  },
  {
   "cell_type": "code",
   "execution_count": 17,
   "metadata": {},
   "outputs": [],
   "source": [
    "def createPopulationExp2(size=10, biases=[0.0,0.0]):\n",
    "    return [createIndividualExp2(10, biases=biases, min_limit=1e-4, max_limit=1.0) for i in range(size)]"
   ]
  },
  {
   "cell_type": "code",
   "execution_count": 18,
   "metadata": {},
   "outputs": [],
   "source": [
    "def createPopulationsExp2(n_pairs, n_individuals, bias_range=[-0.4,0.4]):\n",
    "    pops = []\n",
    "    biases = []\n",
    "    pairs = []\n",
    "    for i in range(n_pairs):\n",
    "        bias = random.uniform(bias_range[0], bias_range[1])\n",
    "        \n",
    "        # Create pair of populations with inverted bias directions \n",
    "        pops.append(createPopulationExp2(n_individuals, biases=[bias, -bias]))\n",
    "        pops.append(createPopulationExp2(n_individuals, biases=[-bias, bias]))\n",
    "        \n",
    "        biases.append(bias)\n",
    "        pairs.append(i)\n",
    "    return pops, biases, pairs"
   ]
  },
  {
   "cell_type": "code",
   "execution_count": 19,
   "metadata": {},
   "outputs": [],
   "source": [
    "def testDivergenceMeasureExp2(n_pairs, n_individuals, bias_range=[-0.4,0.4]):\n",
    "    populations, biases, pairs = createPopulationsExp2(n_pairs, n_individuals, bias_range)\n",
    "    \n",
    "    results = pd.DataFrame(columns=[\"population_1\", \"population_2\",\n",
    "                                    \"bias_1_first\", \"bias_1_second\", \n",
    "                                    \"bias_2_first\",\"bias_2_second\", \n",
    "                                    \"pair\", \"divergence\"])\n",
    "    \n",
    "    for i in range(n_pairs):\n",
    "        ind_pop_1 = i*2\n",
    "        ind_pop_2 = i*2 + 1\n",
    "                \n",
    "        divergence = populationDivergence(populations[ind_pop_1], populations[ind_pop_2])\n",
    "\n",
    "        results = results.append({\"population_1\":ind_pop_1, \"population_2\":ind_pop_2, \n",
    "                          \"bias_1_first\": biases[i], \"bias_1_second\": -biases[i],\n",
    "                          \"bias_2_first\": - biases[i], \"bias_2_second\": biases[i],\n",
    "                          \"pair\": pairs[i] ,\"divergence\":divergence}, ignore_index=True)\n",
    "    \n",
    "    return results"
   ]
  },
  {
   "cell_type": "code",
   "execution_count": 29,
   "metadata": {},
   "outputs": [],
   "source": [
    "divergence_dataframe_exp2 = testDivergenceMeasureExp2(1000, 100)"
   ]
  },
  {
   "cell_type": "code",
   "execution_count": 30,
   "metadata": {},
   "outputs": [],
   "source": [
    "divergence_dataframe_exp2.to_csv(\"population_divergence_sample_experiment_2.csv\",sep=\",\")"
   ]
  },
  {
   "cell_type": "code",
   "execution_count": 31,
   "metadata": {
    "scrolled": true
   },
   "outputs": [
    {
     "data": {
      "text/html": [
       "<div>\n",
       "<style scoped>\n",
       "    .dataframe tbody tr th:only-of-type {\n",
       "        vertical-align: middle;\n",
       "    }\n",
       "\n",
       "    .dataframe tbody tr th {\n",
       "        vertical-align: top;\n",
       "    }\n",
       "\n",
       "    .dataframe thead th {\n",
       "        text-align: right;\n",
       "    }\n",
       "</style>\n",
       "<table border=\"1\" class=\"dataframe\">\n",
       "  <thead>\n",
       "    <tr style=\"text-align: right;\">\n",
       "      <th></th>\n",
       "      <th>population_1</th>\n",
       "      <th>population_2</th>\n",
       "      <th>bias_1_first</th>\n",
       "      <th>bias_1_second</th>\n",
       "      <th>bias_2_first</th>\n",
       "      <th>bias_2_second</th>\n",
       "      <th>pair</th>\n",
       "      <th>divergence</th>\n",
       "    </tr>\n",
       "  </thead>\n",
       "  <tbody>\n",
       "    <tr>\n",
       "      <th>0</th>\n",
       "      <td>0.0</td>\n",
       "      <td>1.0</td>\n",
       "      <td>0.096907</td>\n",
       "      <td>-0.096907</td>\n",
       "      <td>-0.096907</td>\n",
       "      <td>0.096907</td>\n",
       "      <td>0.0</td>\n",
       "      <td>120.822729</td>\n",
       "    </tr>\n",
       "    <tr>\n",
       "      <th>1</th>\n",
       "      <td>2.0</td>\n",
       "      <td>3.0</td>\n",
       "      <td>0.044151</td>\n",
       "      <td>-0.044151</td>\n",
       "      <td>-0.044151</td>\n",
       "      <td>0.044151</td>\n",
       "      <td>1.0</td>\n",
       "      <td>62.061272</td>\n",
       "    </tr>\n",
       "    <tr>\n",
       "      <th>2</th>\n",
       "      <td>4.0</td>\n",
       "      <td>5.0</td>\n",
       "      <td>0.249605</td>\n",
       "      <td>-0.249605</td>\n",
       "      <td>-0.249605</td>\n",
       "      <td>0.249605</td>\n",
       "      <td>2.0</td>\n",
       "      <td>205.794398</td>\n",
       "    </tr>\n",
       "    <tr>\n",
       "      <th>3</th>\n",
       "      <td>6.0</td>\n",
       "      <td>7.0</td>\n",
       "      <td>0.309716</td>\n",
       "      <td>-0.309716</td>\n",
       "      <td>-0.309716</td>\n",
       "      <td>0.309716</td>\n",
       "      <td>3.0</td>\n",
       "      <td>249.922373</td>\n",
       "    </tr>\n",
       "    <tr>\n",
       "      <th>4</th>\n",
       "      <td>8.0</td>\n",
       "      <td>9.0</td>\n",
       "      <td>0.101541</td>\n",
       "      <td>-0.101541</td>\n",
       "      <td>-0.101541</td>\n",
       "      <td>0.101541</td>\n",
       "      <td>4.0</td>\n",
       "      <td>136.665261</td>\n",
       "    </tr>\n",
       "    <tr>\n",
       "      <th>5</th>\n",
       "      <td>10.0</td>\n",
       "      <td>11.0</td>\n",
       "      <td>-0.346192</td>\n",
       "      <td>0.346192</td>\n",
       "      <td>0.346192</td>\n",
       "      <td>-0.346192</td>\n",
       "      <td>5.0</td>\n",
       "      <td>249.774789</td>\n",
       "    </tr>\n",
       "    <tr>\n",
       "      <th>6</th>\n",
       "      <td>12.0</td>\n",
       "      <td>13.0</td>\n",
       "      <td>0.284342</td>\n",
       "      <td>-0.284342</td>\n",
       "      <td>-0.284342</td>\n",
       "      <td>0.284342</td>\n",
       "      <td>6.0</td>\n",
       "      <td>229.105776</td>\n",
       "    </tr>\n",
       "    <tr>\n",
       "      <th>7</th>\n",
       "      <td>14.0</td>\n",
       "      <td>15.0</td>\n",
       "      <td>-0.021662</td>\n",
       "      <td>0.021662</td>\n",
       "      <td>0.021662</td>\n",
       "      <td>-0.021662</td>\n",
       "      <td>7.0</td>\n",
       "      <td>32.314774</td>\n",
       "    </tr>\n",
       "    <tr>\n",
       "      <th>8</th>\n",
       "      <td>16.0</td>\n",
       "      <td>17.0</td>\n",
       "      <td>-0.367431</td>\n",
       "      <td>0.367431</td>\n",
       "      <td>0.367431</td>\n",
       "      <td>-0.367431</td>\n",
       "      <td>8.0</td>\n",
       "      <td>276.108656</td>\n",
       "    </tr>\n",
       "    <tr>\n",
       "      <th>9</th>\n",
       "      <td>18.0</td>\n",
       "      <td>19.0</td>\n",
       "      <td>-0.011570</td>\n",
       "      <td>0.011570</td>\n",
       "      <td>0.011570</td>\n",
       "      <td>-0.011570</td>\n",
       "      <td>9.0</td>\n",
       "      <td>19.687250</td>\n",
       "    </tr>\n",
       "  </tbody>\n",
       "</table>\n",
       "</div>"
      ],
      "text/plain": [
       "   population_1  population_2  bias_1_first  bias_1_second  bias_2_first  \\\n",
       "0           0.0           1.0      0.096907      -0.096907     -0.096907   \n",
       "1           2.0           3.0      0.044151      -0.044151     -0.044151   \n",
       "2           4.0           5.0      0.249605      -0.249605     -0.249605   \n",
       "3           6.0           7.0      0.309716      -0.309716     -0.309716   \n",
       "4           8.0           9.0      0.101541      -0.101541     -0.101541   \n",
       "5          10.0          11.0     -0.346192       0.346192      0.346192   \n",
       "6          12.0          13.0      0.284342      -0.284342     -0.284342   \n",
       "7          14.0          15.0     -0.021662       0.021662      0.021662   \n",
       "8          16.0          17.0     -0.367431       0.367431      0.367431   \n",
       "9          18.0          19.0     -0.011570       0.011570      0.011570   \n",
       "\n",
       "   bias_2_second  pair  divergence  \n",
       "0       0.096907   0.0  120.822729  \n",
       "1       0.044151   1.0   62.061272  \n",
       "2       0.249605   2.0  205.794398  \n",
       "3       0.309716   3.0  249.922373  \n",
       "4       0.101541   4.0  136.665261  \n",
       "5      -0.346192   5.0  249.774789  \n",
       "6       0.284342   6.0  229.105776  \n",
       "7      -0.021662   7.0   32.314774  \n",
       "8      -0.367431   8.0  276.108656  \n",
       "9      -0.011570   9.0   19.687250  "
      ]
     },
     "execution_count": 31,
     "metadata": {},
     "output_type": "execute_result"
    }
   ],
   "source": [
    "divergence_dataframe_exp2.head(10)"
   ]
  },
  {
   "cell_type": "markdown",
   "metadata": {},
   "source": []
  }
 ],
 "metadata": {
  "kernelspec": {
   "display_name": "Python 3",
   "language": "python",
   "name": "python3"
  },
  "language_info": {
   "codemirror_mode": {
    "name": "ipython",
    "version": 3
   },
   "file_extension": ".py",
   "mimetype": "text/x-python",
   "name": "python",
   "nbconvert_exporter": "python",
   "pygments_lexer": "ipython3",
   "version": "3.6.5"
  }
 },
 "nbformat": 4,
 "nbformat_minor": 2
}
