{
 "cells": [
  {
   "cell_type": "markdown",
   "metadata": {},
   "source": [
    "## Population divergence"
   ]
  },
  {
   "cell_type": "code",
   "execution_count": 1,
   "metadata": {},
   "outputs": [],
   "source": [
    "import numpy as np\n",
    "import random\n",
    "import pandas as pd"
   ]
  },
  {
   "cell_type": "code",
   "execution_count": 2,
   "metadata": {},
   "outputs": [],
   "source": [
    "def limitToRange(val, min_limit, max_limit):\n",
    "    if val < min_limit: return min_limit\n",
    "    if val > max_limit: return max_limit\n",
    "    return val\n",
    "\n",
    "def limitArrayValsToRange(vals, min_limit, max_limit):\n",
    "    return [limitToRange(val, min_limit, max_limit) for val in vals]"
   ]
  },
  {
   "cell_type": "code",
   "execution_count": 3,
   "metadata": {},
   "outputs": [],
   "source": [
    "def normalize_probability(arr):\n",
    "    sum_ = sum(arr)\n",
    "    return [a/sum_ for a in arr]"
   ]
  },
  {
   "cell_type": "code",
   "execution_count": 4,
   "metadata": {},
   "outputs": [],
   "source": [
    "def populationDivergence(population_one, population_two):\n",
    "\n",
    "    pop1_col_product = normalize_probability(np.prod(np.asarray(population_one), axis=0))\n",
    "    pop2_col_product = normalize_probability(np.prod(np.asarray(population_two), axis=0))\n",
    "    # print(population_one_colwise_product, population_two_colwise_product)\n",
    "    \n",
    "    # Kuhlback leibler divergence\n",
    "    return np.mean([np.abs(np.log(pop1_col_product[i]/(pop2_col_product[i]+1e-64))) for i in range(len(pop1_col_product))])"
   ]
  },
  {
   "cell_type": "markdown",
   "metadata": {},
   "source": [
    "### Experiment 1\n",
    "All genes are biased in one direction."
   ]
  },
  {
   "cell_type": "code",
   "execution_count": 5,
   "metadata": {},
   "outputs": [],
   "source": [
    "def createIndividualExp1(size=10, bias=0.0, min_limit=1e-4, max_limit=1.0):\n",
    "    return [limitToRange((random.randint(0,100) / 100) + bias, min_limit, max_limit) for i in range(size)]"
   ]
  },
  {
   "cell_type": "code",
   "execution_count": 6,
   "metadata": {},
   "outputs": [],
   "source": [
    "def createPopulationExp1(size=10, bias=0.0):\n",
    "    return [createIndividualExp1(10, bias=bias, min_limit=1e-4, max_limit=1.0) for i in range(size)]"
   ]
  },
  {
   "cell_type": "code",
   "execution_count": 7,
   "metadata": {},
   "outputs": [],
   "source": [
    "def createPopulationsExp1(n_pops, n_individuals, bias_range=[-0.4,0.4]):\n",
    "    pops = []\n",
    "    biases = []\n",
    "    for i in range(n_pops):\n",
    "        bias = random.uniform(bias_range[0], bias_range[1])\n",
    "        biases.append(bias)\n",
    "        pops.append(createPopulationExp1(n_individuals, bias=bias))\n",
    "    return pops, biases"
   ]
  },
  {
   "cell_type": "code",
   "execution_count": 8,
   "metadata": {},
   "outputs": [],
   "source": [
    "# createPopulations(2, 2)"
   ]
  },
  {
   "cell_type": "code",
   "execution_count": 9,
   "metadata": {},
   "outputs": [],
   "source": [
    "def testDivergenceMeasureExp1(n_pops, n_individuals, bias_range=[-0.4,0.4]):\n",
    "    populations, biases = createPopulationsExp1(n_pops, n_individuals, bias_range)\n",
    "    \n",
    "    results = pd.DataFrame(columns=[\"population_1\", \"population_2\",\"bias_1\", \"bias_2\", \"divergence\"])\n",
    "    \n",
    "    #count = 0\n",
    "    for i in range(n_pops):\n",
    "        for j in range(n_pops):\n",
    "            if j<i: \n",
    "                continue\n",
    "                \n",
    "            divergence = populationDivergence(populations[i], populations[j])\n",
    "\n",
    "            results = results.append({\"population_1\":i, \"population_2\":j, \n",
    "                                      \"bias_1\": biases[i], \"bias_2\": biases[j], \n",
    "                                      \"divergence\":divergence}, ignore_index=True)\n",
    "    \n",
    "    return results"
   ]
  },
  {
   "cell_type": "code",
   "execution_count": 10,
   "metadata": {},
   "outputs": [],
   "source": [
    "divergence_dataframe_exp1 = testDivergenceMeasureExp1(500, 100)"
   ]
  },
  {
   "cell_type": "code",
   "execution_count": 11,
   "metadata": {},
   "outputs": [],
   "source": [
    "divergence_dataframe_exp1.to_csv(\"population_divergence_sample_experiment_1.csv\",sep=\",\")"
   ]
  },
  {
   "cell_type": "code",
   "execution_count": 12,
   "metadata": {
    "scrolled": true
   },
   "outputs": [
    {
     "data": {
      "text/html": [
       "<div>\n",
       "<style scoped>\n",
       "    .dataframe tbody tr th:only-of-type {\n",
       "        vertical-align: middle;\n",
       "    }\n",
       "\n",
       "    .dataframe tbody tr th {\n",
       "        vertical-align: top;\n",
       "    }\n",
       "\n",
       "    .dataframe thead th {\n",
       "        text-align: right;\n",
       "    }\n",
       "</style>\n",
       "<table border=\"1\" class=\"dataframe\">\n",
       "  <thead>\n",
       "    <tr style=\"text-align: right;\">\n",
       "      <th></th>\n",
       "      <th>population_1</th>\n",
       "      <th>population_2</th>\n",
       "      <th>bias_1</th>\n",
       "      <th>bias_2</th>\n",
       "      <th>divergence</th>\n",
       "    </tr>\n",
       "  </thead>\n",
       "  <tbody>\n",
       "    <tr>\n",
       "      <th>0</th>\n",
       "      <td>0.0</td>\n",
       "      <td>0.0</td>\n",
       "      <td>0.196393</td>\n",
       "      <td>0.196393</td>\n",
       "      <td>0.000000</td>\n",
       "    </tr>\n",
       "    <tr>\n",
       "      <th>1</th>\n",
       "      <td>0.0</td>\n",
       "      <td>1.0</td>\n",
       "      <td>0.196393</td>\n",
       "      <td>0.124775</td>\n",
       "      <td>6.773405</td>\n",
       "    </tr>\n",
       "    <tr>\n",
       "      <th>2</th>\n",
       "      <td>0.0</td>\n",
       "      <td>2.0</td>\n",
       "      <td>0.196393</td>\n",
       "      <td>0.095541</td>\n",
       "      <td>7.454881</td>\n",
       "    </tr>\n",
       "    <tr>\n",
       "      <th>3</th>\n",
       "      <td>0.0</td>\n",
       "      <td>3.0</td>\n",
       "      <td>0.196393</td>\n",
       "      <td>-0.180980</td>\n",
       "      <td>38.995808</td>\n",
       "    </tr>\n",
       "    <tr>\n",
       "      <th>4</th>\n",
       "      <td>0.0</td>\n",
       "      <td>4.0</td>\n",
       "      <td>0.196393</td>\n",
       "      <td>0.044060</td>\n",
       "      <td>8.160659</td>\n",
       "    </tr>\n",
       "    <tr>\n",
       "      <th>5</th>\n",
       "      <td>0.0</td>\n",
       "      <td>5.0</td>\n",
       "      <td>0.196393</td>\n",
       "      <td>0.334821</td>\n",
       "      <td>4.574858</td>\n",
       "    </tr>\n",
       "    <tr>\n",
       "      <th>6</th>\n",
       "      <td>0.0</td>\n",
       "      <td>6.0</td>\n",
       "      <td>0.196393</td>\n",
       "      <td>0.386151</td>\n",
       "      <td>5.763887</td>\n",
       "    </tr>\n",
       "    <tr>\n",
       "      <th>7</th>\n",
       "      <td>0.0</td>\n",
       "      <td>7.0</td>\n",
       "      <td>0.196393</td>\n",
       "      <td>-0.014628</td>\n",
       "      <td>13.387120</td>\n",
       "    </tr>\n",
       "    <tr>\n",
       "      <th>8</th>\n",
       "      <td>0.0</td>\n",
       "      <td>8.0</td>\n",
       "      <td>0.196393</td>\n",
       "      <td>0.361635</td>\n",
       "      <td>6.655907</td>\n",
       "    </tr>\n",
       "    <tr>\n",
       "      <th>9</th>\n",
       "      <td>0.0</td>\n",
       "      <td>9.0</td>\n",
       "      <td>0.196393</td>\n",
       "      <td>-0.213342</td>\n",
       "      <td>19.989252</td>\n",
       "    </tr>\n",
       "  </tbody>\n",
       "</table>\n",
       "</div>"
      ],
      "text/plain": [
       "   population_1  population_2    bias_1    bias_2  divergence\n",
       "0           0.0           0.0  0.196393  0.196393    0.000000\n",
       "1           0.0           1.0  0.196393  0.124775    6.773405\n",
       "2           0.0           2.0  0.196393  0.095541    7.454881\n",
       "3           0.0           3.0  0.196393 -0.180980   38.995808\n",
       "4           0.0           4.0  0.196393  0.044060    8.160659\n",
       "5           0.0           5.0  0.196393  0.334821    4.574858\n",
       "6           0.0           6.0  0.196393  0.386151    5.763887\n",
       "7           0.0           7.0  0.196393 -0.014628   13.387120\n",
       "8           0.0           8.0  0.196393  0.361635    6.655907\n",
       "9           0.0           9.0  0.196393 -0.213342   19.989252"
      ]
     },
     "execution_count": 12,
     "metadata": {},
     "output_type": "execute_result"
    }
   ],
   "source": [
    "divergence_dataframe_exp1.head(10)"
   ]
  },
  {
   "cell_type": "code",
   "execution_count": 13,
   "metadata": {},
   "outputs": [],
   "source": [
    "def createOneGenomeProduct():\n",
    "    populations, biases = createPopulationsExp1(1, 100, bias_range=[-0.4,0.4])\n",
    "    return np.prod(np.asarray(populations[0]), axis=0)\n",
    "    "
   ]
  },
  {
   "cell_type": "code",
   "execution_count": 14,
   "metadata": {},
   "outputs": [
    {
     "data": {
      "text/plain": [
       "array([2.90628148e-43, 1.92144496e-49, 1.56218180e-44, 3.16069304e-45,\n",
       "       1.75082127e-44, 1.06490734e-36, 4.21758147e-43, 7.22121104e-44,\n",
       "       2.56186210e-43, 5.55230103e-49])"
      ]
     },
     "execution_count": 14,
     "metadata": {},
     "output_type": "execute_result"
    }
   ],
   "source": [
    "prod = createOneGenomeProduct()\n",
    "prod"
   ]
  },
  {
   "cell_type": "code",
   "execution_count": 15,
   "metadata": {},
   "outputs": [
    {
     "data": {
      "text/plain": [
       "[2.729137485975465e-07,\n",
       " 1.8043288274121057e-13,\n",
       " 1.4669635149247135e-08,\n",
       " 2.9680421219058084e-09,\n",
       " 1.6441050179786767e-08,\n",
       " 0.9999989885739757,\n",
       " 3.960510971871911e-07,\n",
       " 6.781062970366795e-08,\n",
       " 2.405711193639031e-07,\n",
       " 5.213876555110231e-13]"
      ]
     },
     "execution_count": 15,
     "metadata": {},
     "output_type": "execute_result"
    }
   ],
   "source": [
    "normalize_probability(prod)"
   ]
  },
  {
   "cell_type": "markdown",
   "metadata": {},
   "source": [
    "### Experiment 2\n",
    "Half of the genes in one direction, half in the other.  \n",
    "Compare pairs where the directions are inverted,   \n",
    "\n",
    "e.g.   \n",
    "bias for pop 1 = [-0.3, -0,3, 0.3, 0.3]   \n",
    "bias for pop 2 = [0.3, 0.3, -0.3, -0.3]"
   ]
  },
  {
   "cell_type": "code",
   "execution_count": 16,
   "metadata": {},
   "outputs": [],
   "source": [
    "def createIndividualExp2(size=10, biases=[0.0,0.0], min_limit=1e-4, max_limit=1.0):\n",
    "    return [limitToRange((random.randint(0,100) / 100) + (biases[0] if i < size//2 else biases[1]), min_limit, max_limit) for i in range(size)]"
   ]
  },
  {
   "cell_type": "code",
   "execution_count": 17,
   "metadata": {},
   "outputs": [],
   "source": [
    "def createPopulationExp2(size=10, biases=[0.0,0.0]):\n",
    "    return [createIndividualExp2(10, biases=biases, min_limit=1e-4, max_limit=1.0) for i in range(size)]"
   ]
  },
  {
   "cell_type": "code",
   "execution_count": 18,
   "metadata": {},
   "outputs": [],
   "source": [
    "def createPopulationsExp2(n_pairs, n_individuals, bias_range=[-0.4,0.4]):\n",
    "    pops = []\n",
    "    biases = []\n",
    "    pairs = []\n",
    "    for i in range(n_pairs):\n",
    "        bias = random.uniform(bias_range[0], bias_range[1])\n",
    "        \n",
    "        # Create pair of populations with inverted bias directions \n",
    "        pops.append(createPopulationExp2(n_individuals, biases=[bias, -bias]))\n",
    "        pops.append(createPopulationExp2(n_individuals, biases=[-bias, bias]))\n",
    "        \n",
    "        biases.append(bias)\n",
    "        pairs.append(i)\n",
    "    return pops, biases, pairs"
   ]
  },
  {
   "cell_type": "code",
   "execution_count": 19,
   "metadata": {},
   "outputs": [],
   "source": [
    "def testDivergenceMeasureExp2(n_pairs, n_individuals, bias_range=[-0.4,0.4]):\n",
    "    populations, biases, pairs = createPopulationsExp2(n_pairs, n_individuals, bias_range)\n",
    "    \n",
    "    results = pd.DataFrame(columns=[\"population_1\", \"population_2\",\n",
    "                                    \"bias_1_first\", \"bias_1_second\", \n",
    "                                    \"bias_2_first\",\"bias_2_second\", \n",
    "                                    \"pair\", \"divergence\"])\n",
    "    \n",
    "    for i in range(n_pairs):\n",
    "        ind_pop_1 = i*2\n",
    "        ind_pop_2 = i*2 + 1\n",
    "                \n",
    "        divergence = populationDivergence(populations[ind_pop_1], populations[ind_pop_2])\n",
    "\n",
    "        results = results.append({\"population_1\":ind_pop_1, \"population_2\":ind_pop_2, \n",
    "                          \"bias_1_first\": biases[i], \"bias_1_second\": -biases[i],\n",
    "                          \"bias_2_first\": - biases[i], \"bias_2_second\": biases[i],\n",
    "                          \"pair\": pairs[i] ,\"divergence\":divergence}, ignore_index=True)\n",
    "    \n",
    "    return results"
   ]
  },
  {
   "cell_type": "code",
   "execution_count": 20,
   "metadata": {},
   "outputs": [],
   "source": [
    "divergence_dataframe_exp2 = testDivergenceMeasureExp2(500, 100)"
   ]
  },
  {
   "cell_type": "code",
   "execution_count": 21,
   "metadata": {},
   "outputs": [],
   "source": [
    "divergence_dataframe_exp2.to_csv(\"population_divergence_sample_experiment_2.csv\",sep=\",\")"
   ]
  },
  {
   "cell_type": "code",
   "execution_count": 22,
   "metadata": {
    "scrolled": true
   },
   "outputs": [
    {
     "data": {
      "text/html": [
       "<div>\n",
       "<style scoped>\n",
       "    .dataframe tbody tr th:only-of-type {\n",
       "        vertical-align: middle;\n",
       "    }\n",
       "\n",
       "    .dataframe tbody tr th {\n",
       "        vertical-align: top;\n",
       "    }\n",
       "\n",
       "    .dataframe thead th {\n",
       "        text-align: right;\n",
       "    }\n",
       "</style>\n",
       "<table border=\"1\" class=\"dataframe\">\n",
       "  <thead>\n",
       "    <tr style=\"text-align: right;\">\n",
       "      <th></th>\n",
       "      <th>population_1</th>\n",
       "      <th>population_2</th>\n",
       "      <th>bias_1_first</th>\n",
       "      <th>bias_1_second</th>\n",
       "      <th>bias_2_first</th>\n",
       "      <th>bias_2_second</th>\n",
       "      <th>pair</th>\n",
       "      <th>divergence</th>\n",
       "    </tr>\n",
       "  </thead>\n",
       "  <tbody>\n",
       "    <tr>\n",
       "      <th>0</th>\n",
       "      <td>0.0</td>\n",
       "      <td>1.0</td>\n",
       "      <td>-0.054477</td>\n",
       "      <td>0.054477</td>\n",
       "      <td>0.054477</td>\n",
       "      <td>-0.054477</td>\n",
       "      <td>0.0</td>\n",
       "      <td>72.054298</td>\n",
       "    </tr>\n",
       "    <tr>\n",
       "      <th>1</th>\n",
       "      <td>2.0</td>\n",
       "      <td>3.0</td>\n",
       "      <td>0.170389</td>\n",
       "      <td>-0.170389</td>\n",
       "      <td>-0.170389</td>\n",
       "      <td>0.170389</td>\n",
       "      <td>1.0</td>\n",
       "      <td>173.385569</td>\n",
       "    </tr>\n",
       "    <tr>\n",
       "      <th>2</th>\n",
       "      <td>4.0</td>\n",
       "      <td>5.0</td>\n",
       "      <td>0.095977</td>\n",
       "      <td>-0.095977</td>\n",
       "      <td>-0.095977</td>\n",
       "      <td>0.095977</td>\n",
       "      <td>2.0</td>\n",
       "      <td>110.923134</td>\n",
       "    </tr>\n",
       "    <tr>\n",
       "      <th>3</th>\n",
       "      <td>6.0</td>\n",
       "      <td>7.0</td>\n",
       "      <td>0.113135</td>\n",
       "      <td>-0.113135</td>\n",
       "      <td>-0.113135</td>\n",
       "      <td>0.113135</td>\n",
       "      <td>3.0</td>\n",
       "      <td>128.963617</td>\n",
       "    </tr>\n",
       "    <tr>\n",
       "      <th>4</th>\n",
       "      <td>8.0</td>\n",
       "      <td>9.0</td>\n",
       "      <td>-0.171245</td>\n",
       "      <td>0.171245</td>\n",
       "      <td>0.171245</td>\n",
       "      <td>-0.171245</td>\n",
       "      <td>4.0</td>\n",
       "      <td>163.747962</td>\n",
       "    </tr>\n",
       "    <tr>\n",
       "      <th>5</th>\n",
       "      <td>10.0</td>\n",
       "      <td>11.0</td>\n",
       "      <td>0.136270</td>\n",
       "      <td>-0.136270</td>\n",
       "      <td>-0.136270</td>\n",
       "      <td>0.136270</td>\n",
       "      <td>5.0</td>\n",
       "      <td>152.237938</td>\n",
       "    </tr>\n",
       "    <tr>\n",
       "      <th>6</th>\n",
       "      <td>12.0</td>\n",
       "      <td>13.0</td>\n",
       "      <td>-0.245981</td>\n",
       "      <td>0.245981</td>\n",
       "      <td>0.245981</td>\n",
       "      <td>-0.245981</td>\n",
       "      <td>6.0</td>\n",
       "      <td>202.669933</td>\n",
       "    </tr>\n",
       "    <tr>\n",
       "      <th>7</th>\n",
       "      <td>14.0</td>\n",
       "      <td>15.0</td>\n",
       "      <td>-0.130766</td>\n",
       "      <td>0.130766</td>\n",
       "      <td>0.130766</td>\n",
       "      <td>-0.130766</td>\n",
       "      <td>7.0</td>\n",
       "      <td>159.499099</td>\n",
       "    </tr>\n",
       "    <tr>\n",
       "      <th>8</th>\n",
       "      <td>16.0</td>\n",
       "      <td>17.0</td>\n",
       "      <td>-0.002165</td>\n",
       "      <td>0.002165</td>\n",
       "      <td>0.002165</td>\n",
       "      <td>-0.002165</td>\n",
       "      <td>8.0</td>\n",
       "      <td>10.943944</td>\n",
       "    </tr>\n",
       "    <tr>\n",
       "      <th>9</th>\n",
       "      <td>18.0</td>\n",
       "      <td>19.0</td>\n",
       "      <td>-0.149962</td>\n",
       "      <td>0.149962</td>\n",
       "      <td>0.149962</td>\n",
       "      <td>-0.149962</td>\n",
       "      <td>9.0</td>\n",
       "      <td>148.013766</td>\n",
       "    </tr>\n",
       "  </tbody>\n",
       "</table>\n",
       "</div>"
      ],
      "text/plain": [
       "   population_1  population_2  bias_1_first  bias_1_second  bias_2_first  \\\n",
       "0           0.0           1.0     -0.054477       0.054477      0.054477   \n",
       "1           2.0           3.0      0.170389      -0.170389     -0.170389   \n",
       "2           4.0           5.0      0.095977      -0.095977     -0.095977   \n",
       "3           6.0           7.0      0.113135      -0.113135     -0.113135   \n",
       "4           8.0           9.0     -0.171245       0.171245      0.171245   \n",
       "5          10.0          11.0      0.136270      -0.136270     -0.136270   \n",
       "6          12.0          13.0     -0.245981       0.245981      0.245981   \n",
       "7          14.0          15.0     -0.130766       0.130766      0.130766   \n",
       "8          16.0          17.0     -0.002165       0.002165      0.002165   \n",
       "9          18.0          19.0     -0.149962       0.149962      0.149962   \n",
       "\n",
       "   bias_2_second  pair  divergence  \n",
       "0      -0.054477   0.0   72.054298  \n",
       "1       0.170389   1.0  173.385569  \n",
       "2       0.095977   2.0  110.923134  \n",
       "3       0.113135   3.0  128.963617  \n",
       "4      -0.171245   4.0  163.747962  \n",
       "5       0.136270   5.0  152.237938  \n",
       "6      -0.245981   6.0  202.669933  \n",
       "7      -0.130766   7.0  159.499099  \n",
       "8      -0.002165   8.0   10.943944  \n",
       "9      -0.149962   9.0  148.013766  "
      ]
     },
     "execution_count": 22,
     "metadata": {},
     "output_type": "execute_result"
    }
   ],
   "source": [
    "divergence_dataframe_exp2.head(10)"
   ]
  },
  {
   "cell_type": "markdown",
   "metadata": {},
   "source": []
  }
 ],
 "metadata": {
  "kernelspec": {
   "display_name": "Python 3",
   "language": "python",
   "name": "python3"
  },
  "language_info": {
   "codemirror_mode": {
    "name": "ipython",
    "version": 3
   },
   "file_extension": ".py",
   "mimetype": "text/x-python",
   "name": "python",
   "nbconvert_exporter": "python",
   "pygments_lexer": "ipython3",
   "version": "3.6.5"
  }
 },
 "nbformat": 4,
 "nbformat_minor": 2
}
